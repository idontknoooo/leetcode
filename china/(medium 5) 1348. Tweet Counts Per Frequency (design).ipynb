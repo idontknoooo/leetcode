{
 "cells": [
  {
   "cell_type": "markdown",
   "metadata": {},
   "source": [
    "### Metadata\n",
    "    1. Company: Twitter\n",
    "    2. Type: design"
   ]
  },
  {
   "cell_type": "code",
   "execution_count": null,
   "metadata": {
    "collapsed": true
   },
   "outputs": [],
   "source": [
    "# Use per-allocated arr to speed up\n",
    "class TweetCounts:\n",
    "\n",
    "    def __init__(self):\n",
    "        self.d = collections.defaultdict(list)\n",
    "        self.m = {'minute': 60, 'hour': 3600, 'day': 86400}\n",
    "\n",
    "    def recordTweet(self, tweetName: str, time: int) -> None:\n",
    "        self.d[tweetName].append(time)\n",
    "        \n",
    "\n",
    "    def getTweetCountsPerFrequency(self, freq: str, tweetName: str, startTime: int, endTime: int) -> List[int]:\n",
    "        freq = self.m[freq]\n",
    "        ans = [0] * ((endTime - startTime) // freq + 1) # optimize, don't use append\n",
    "        for time in self.d[tweetName]:\n",
    "            if time < startTime or time > endTime: continue\n",
    "            ans[(time - startTime) // freq] += 1\n",
    "        return ans    \n",
    "        \n",
    "\n",
    "\n",
    "# Your TweetCounts object will be instantiated and called as such:\n",
    "# obj = TweetCounts()\n",
    "# obj.recordTweet(tweetName,time)\n",
    "# param_2 = obj.getTweetCountsPerFrequency(freq,tweetName,startTime,endTime)"
   ]
  }
 ],
 "metadata": {
  "kernelspec": {
   "display_name": "Python 3",
   "language": "python",
   "name": "python3"
  },
  "language_info": {
   "codemirror_mode": {
    "name": "ipython",
    "version": 3
   },
   "file_extension": ".py",
   "mimetype": "text/x-python",
   "name": "python",
   "nbconvert_exporter": "python",
   "pygments_lexer": "ipython3",
   "version": "3.6.1"
  }
 },
 "nbformat": 4,
 "nbformat_minor": 2
}
