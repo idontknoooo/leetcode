{
 "cells": [
  {
   "cell_type": "markdown",
   "metadata": {},
   "source": [
    "### Metadata\n",
    "    1. Company: FLAG, ByteDance\n",
    "    2. Type: DFS, Topological Sort, Memoization\n",
    "    \n",
    "### Key knowledge\n",
    "    - Memoization\n",
    "    - Use memoization matrix as visited set\n",
    "    - Topological sort\n",
    "    - sorted(d, key=d.get): sort dictionary keys based on rank of dict value\n",
    "    - Python complex as position key (x + y * 1j) to save code"
   ]
  },
  {
   "cell_type": "code",
   "execution_count": 1,
   "metadata": {
    "collapsed": true
   },
   "outputs": [],
   "source": [
    "import functools\n",
    "from typing import List"
   ]
  },
  {
   "cell_type": "code",
   "execution_count": 2,
   "metadata": {
    "collapsed": true
   },
   "outputs": [],
   "source": [
    "# DFS + Memoization\n",
    "# Intuition: Trival :)\n",
    "# Use DFS, we can find the longest increasing path for current position (i, j)\n",
    "#     f(i,j) = max{f(x,y) ∣ (x,y) is a neighbor of(i,j) and matrix[x][y] > matrix[i][j]} + 1\n",
    "# Since some of the position (x,y) will be calculated multiple times, \n",
    "# we use Memoization to store these value to avoid repeat calculation\n",
    "# We also use Memoization matrix (\"mat\") as a \"visited\" to avoid re-visit\n",
    "class Solution:    \n",
    "    \n",
    "    def dfs(self, matrix, mat, i, j, m, n):\n",
    "        if mat[i][j]: return mat[i][j]\n",
    "        for di, dj in [(-1, 0), (1, 0), (0, -1), (0, 1)]:\n",
    "            _i, _j = i+di, j+dj\n",
    "            if 0 <= _i < m and 0 <= _j < n and matrix[_i][_j] > matrix[i][j]:\n",
    "                mat[i][j] = max(mat[i][j], self.dfs(matrix, mat, _i, _j, m, n))\n",
    "        mat[i][j] += 1\n",
    "        return mat[i][j]\n",
    "    \n",
    "    def longestIncreasingPath(self, matrix):\n",
    "        \"\"\"\n",
    "        :type matrix: List[List[int]]\n",
    "        :rtype: int\n",
    "        \"\"\"\n",
    "        if not matrix: return 0\n",
    "        m, n = len(matrix), len(matrix[0])\n",
    "        mat = [[0] * n for _ in range(m)]\n",
    "\n",
    "        ans = 0\n",
    "        for i, row in enumerate(matrix):\n",
    "            for j, val in enumerate(row):\n",
    "                ans = max(ans, self.dfs(matrix, mat, i, j, m, n))\n",
    "        return ans "
   ]
  },
  {
   "cell_type": "code",
   "execution_count": 3,
   "metadata": {
    "collapsed": true
   },
   "outputs": [],
   "source": [
    "# Topological Sort\n",
    "# Intuition: Current position only depends on its neighbours, DP should be a possible solution\n",
    "# Issue: No \"head\" or \"tail\", we don't know where to start and where goes next\n",
    "# How to solve the issue: Topological Sort, we think each (i,j) as a node, \n",
    "#     and the order will be the value (position will be sorted)\n",
    "# Python Complex: use python complex for key (instead of tuple(i,j)), we are saving lots of code during iteration\n",
    "class Solution:\n",
    "    def longestIncreasingPath(self, matrix):\n",
    "        d = {}\n",
    "        for r, row in enumerate(matrix):\n",
    "            for c, val in enumerate(row):\n",
    "                d[r + c*1j] = val  # Python complex\n",
    "        dp, res = {}, 0\n",
    "        for z in sorted(d, key=d.get):\n",
    "            dp[z] = 1\n",
    "            cur = 0\n",
    "            for n in (z+1, z-1, z+1j, z-1j):\n",
    "                # if n in d: boundary check\n",
    "                # d[z] > d[n]: order check\n",
    "                if n in d and d[z] > d[n]:\n",
    "                    cur = max(cur, dp[n])\n",
    "            dp[z] += cur \n",
    "            res = max(res, dp[z])\n",
    "        return res"
   ]
  },
  {
   "cell_type": "code",
   "execution_count": 4,
   "metadata": {},
   "outputs": [],
   "source": [
    "# Faster solution with @functools.lru_cache\n",
    "# Get rid of \"visited\" and memoization, lru_cache will take care of everything\n",
    "class Solution:\n",
    "    def longestIncreasingPath(self, matrix: List[List[int]]) -> int:\n",
    "        m = len(matrix)\n",
    "        if m == 0:\n",
    "            return 0\n",
    "        n = len(matrix[0])\n",
    "        if n == 0:\n",
    "            return 0\n",
    "        @functools.lru_cache(None)\n",
    "        def rec(i,j):\n",
    "            l, r, d, u = 0, 0, 0, 0\n",
    "            cur = matrix[i][j]\n",
    "            if i > 0 and matrix[i-1][j] > cur:\n",
    "                u = rec(i-1,j)\n",
    "            if i < m-1 and matrix[i+1][j] > cur:\n",
    "                d = rec(i+1,j)\n",
    "            if j > 0 and matrix[i][j-1] > cur:\n",
    "                l = rec(i,j-1)\n",
    "            if j < n-1 and matrix[i][j+1] > cur:\n",
    "                r = rec(i,j+1)\n",
    "            return 1 + max(u,d,l,r)\n",
    "        ans = max(rec(i,j) for i in range(m) for j in range(n))\n",
    "        return ans"
   ]
  }
 ],
 "metadata": {
  "kernelspec": {
   "display_name": "Python 3",
   "language": "python",
   "name": "python3"
  },
  "language_info": {
   "codemirror_mode": {
    "name": "ipython",
    "version": 3
   },
   "file_extension": ".py",
   "mimetype": "text/x-python",
   "name": "python",
   "nbconvert_exporter": "python",
   "pygments_lexer": "ipython3",
   "version": "3.6.1"
  }
 },
 "nbformat": 4,
 "nbformat_minor": 2
}
