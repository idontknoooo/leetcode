{
 "cells": [
  {
   "cell_type": "markdown",
   "metadata": {},
   "source": [
    "### Metadata\n",
    "    1. Company: SAP\n",
    "    2. Type: Dynamic Programming, bitmask 状态压缩 - 用0/1比特序列来代表当前运算的状态"
   ]
  },
  {
   "cell_type": "code",
   "execution_count": 5,
   "metadata": {},
   "outputs": [
    {
     "name": "stdout",
     "output_type": "stream",
     "text": [
      "(0, 0, 0)\n",
      "(0, 0, 1)\n",
      "(0, 1, 0)\n",
      "(0, 1, 1)\n",
      "(1, 0, 0)\n",
      "(1, 0, 1)\n",
      "(1, 1, 0)\n",
      "(1, 1, 1)\n"
     ]
    }
   ],
   "source": [
    "# 1. Bitmask 状态压缩\n",
    "import itertools\n",
    "for row in itertools.product((0,1), repeat=3):\n",
    "    print(row)\n",
    "\n",
    "# 2. 动态规划\n",
    "# 当前行的状态只能上一行的状态有关\n",
    "\n",
    "# 3. 优化\n",
    "# 当前行的状态只能上一行的状态有关"
   ]
  },
  {
   "cell_type": "code",
   "execution_count": 2,
   "metadata": {},
   "outputs": [],
   "source": [
    "from typing import List \n",
    "class Solution:\n",
    "    def maxStudents(self, seats: List[List[str]]) -> int:\n",
    "        m, n = len(seats), len(seats[0])\n",
    "        # 使用状压列出所有排列组合itertools.product((0,1), repeat=n)\n",
    "        # 淘汰单行状态下（不考虑前后行）不可能的情况\n",
    "        # 把可能的情况加到legal里面\n",
    "        legal = [[] * n for _ in range(m)]\n",
    "        for cand in itertools.product((0, 1), repeat=n):\n",
    "            if any(cand[i] and cand[i+1] for i in range(n-1)): continue\n",
    "            for i in range(m):\n",
    "                if (any(cand[j] and seats[i][j] == '#' for j in range(n))): continue\n",
    "                legal[i].append(cand) \n",
    "                \n",
    "        # 初始化\n",
    "        prev_row = dict()        \n",
    "        for cand in legal[0]:\n",
    "            prev_row[cand] = sum(cand)\n",
    "        \n",
    "        # 从第一行开始，暴力碰撞前一行和当前行的所有情况，\n",
    "        # 如果合理则计算累计和，如果不合理则忽略\n",
    "        # 更新prev_row状态，并向下（每行）比较\n",
    "        for i in range(1, m):\n",
    "            cur_row = dict()\n",
    "            for prev_cand, prev_sum in prev_row.items():\n",
    "                for cur_cand in legal[i]:\n",
    "                    cur_sum = sum(cur_cand)\n",
    "                    cur_val = cur_row.get(cur_cand, -1)\n",
    "                    # 优化，对于当前候选人(cur_cand)，如果它和之前的某一候选人已经构造出一个较大值（大过当前的prev_sum和cur_sum的和）\n",
    "                    # 则没必要再去计算，因为当前的候选人，只跟上一层有关；同样的逻辑会延申迭代下去\n",
    "                    if cur_val >= prev_sum + cur_sum: continue \n",
    "                    for j in range(n): # 碰撞前一行和当前行的每个元素\n",
    "                        if cur_cand[j]:\n",
    "                            if j-1 >= 0 and prev_cand[j-1] or j+1 < n and prev_cand[j+1]: \n",
    "                                break\n",
    "                    else:\n",
    "                        cur_row[cur_cand] = cur_sum + prev_sum\n",
    "            prev_row = cur_row\n",
    "        return max(prev_row.values())"
   ]
  }
 ],
 "metadata": {
  "kernelspec": {
   "display_name": "Python 3",
   "language": "python",
   "name": "python3"
  },
  "language_info": {
   "codemirror_mode": {
    "name": "ipython",
    "version": 3
   },
   "file_extension": ".py",
   "mimetype": "text/x-python",
   "name": "python",
   "nbconvert_exporter": "python",
   "pygments_lexer": "ipython3",
   "version": "3.6.1"
  }
 },
 "nbformat": 4,
 "nbformat_minor": 2
}
