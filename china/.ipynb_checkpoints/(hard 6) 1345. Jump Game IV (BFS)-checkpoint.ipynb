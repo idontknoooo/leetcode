{
 "cells": [
  {
   "cell_type": "markdown",
   "metadata": {},
   "source": [
    "### Metadata\n",
    "    1. Company: Google\n",
    "    2. Type: BFS"
   ]
  },
  {
   "cell_type": "code",
   "execution_count": 8,
   "metadata": {},
   "outputs": [],
   "source": [
    "# BFS with deque + optimization with pre-allocated array & clean dictionary\n",
    "# BFS store a tuple (index, state: cur_step)\n",
    "from typing import List\n",
    "import collections\n",
    "class Solution:\n",
    "    def minJumps(self, arr: List[int]) -> int:\n",
    "        d = collections.defaultdict(list)\n",
    "        l = len(arr)\n",
    "        for i, num in enumerate(arr):\n",
    "            d[num].append(i)\n",
    "            \n",
    "        deque = collections.deque([(0, 0)])    \n",
    "        visited = [0] * l # optimize by not using set()\n",
    "        visited[0] = 1\n",
    "        while deque:\n",
    "            idx, step = deque.popleft()\n",
    "            if idx == l - 1: return step\n",
    "            for i in d[arr[idx]] + [idx-1, idx+1]:\n",
    "                if visited[i] or i < 0 or i > l: continue\n",
    "                if i == l - 1: return step + 1 # optimize\n",
    "                deque.append((i, step + 1))\n",
    "                visited[i] = 1\n",
    "            d[arr[idx]] = []    # optimize\n",
    "        return -1    "
   ]
  }
 ],
 "metadata": {
  "kernelspec": {
   "display_name": "Python 3",
   "language": "python",
   "name": "python3"
  },
  "language_info": {
   "codemirror_mode": {
    "name": "ipython",
    "version": 3
   },
   "file_extension": ".py",
   "mimetype": "text/x-python",
   "name": "python",
   "nbconvert_exporter": "python",
   "pygments_lexer": "ipython3",
   "version": "3.6.1"
  }
 },
 "nbformat": 4,
 "nbformat_minor": 2
}
