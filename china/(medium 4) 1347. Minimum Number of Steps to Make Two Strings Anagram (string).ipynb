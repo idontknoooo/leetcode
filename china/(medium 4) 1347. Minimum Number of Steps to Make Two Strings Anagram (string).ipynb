{
 "cells": [
  {
   "cell_type": "markdown",
   "metadata": {},
   "source": [
    "### Metadata\n",
    "    1. Company: Twitter\n",
    "    2. Type: string"
   ]
  },
  {
   "cell_type": "code",
   "execution_count": 2,
   "metadata": {
    "collapsed": true
   },
   "outputs": [],
   "source": [
    "# Time: O(n + n + 26)\n",
    "# Trivial method\n",
    "class Solution:\n",
    "    def minSteps(self, s: str, t: str) -> int:\n",
    "        s_count, t_count = [0] * 26, [0] * 26\n",
    "        for c in s:\n",
    "            s_count[ord(c)-ord('a')] += 1\n",
    "        for c in t:\n",
    "            t_count[ord(c)-ord('a')] += 1\n",
    "        ans = 0    \n",
    "        for i, j in zip(s_count, t_count):    \n",
    "            ans += abs(i-j)\n",
    "        return ans // 2 # devided by 2 meaning replace"
   ]
  },
  {
   "cell_type": "code",
   "execution_count": null,
   "metadata": {
    "collapsed": true
   },
   "outputs": [],
   "source": [
    "# Time: O(26*n)\n",
    "# string.count is faster since it was implemented at C level, but time complexity wise, it's slower\n",
    "class Solution:\n",
    "    def minSteps(self, s: str, t: str):\n",
    "        diff = 0\n",
    "        for i in range(26):\n",
    "            diff += abs(s.count(chr(97 + i)) - t.count(chr(97 + i)))\n",
    "        return diff // 2"
   ]
  }
 ],
 "metadata": {
  "kernelspec": {
   "display_name": "Python 3",
   "language": "python",
   "name": "python3"
  },
  "language_info": {
   "codemirror_mode": {
    "name": "ipython",
    "version": 3
   },
   "file_extension": ".py",
   "mimetype": "text/x-python",
   "name": "python",
   "nbconvert_exporter": "python",
   "pygments_lexer": "ipython3",
   "version": "3.6.1"
  }
 },
 "nbformat": 4,
 "nbformat_minor": 2
}
