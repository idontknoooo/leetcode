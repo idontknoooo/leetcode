{
 "cells": [
  {
   "cell_type": "code",
   "execution_count": null,
   "metadata": {},
   "outputs": [],
   "source": [
    "# Constraint \n",
    "# 1 <= s.length <= 10^5\n",
    "# 1 <= maxLetters <= 26\n",
    "# 1 <= minSize <= maxSize <= min(26, s.length)"
   ]
  },
  {
   "cell_type": "code",
   "execution_count": null,
   "metadata": {},
   "outputs": [],
   "source": [
    "# 1. By constrain this can be done at O(26 * n * (maxSize - minSize))\n",
    "# 2. If most often string with length (minSize) appears X times, then no other string longer than it, \n",
    "#        will have frequency greater than X, since they are substring-string relation\n",
    "#    thus, time will limit to O(26 * n)\n",
    "# 3. Count all occurance of substring with length minSize"
   ]
  },
  {
   "cell_type": "code",
   "execution_count": 3,
   "metadata": {},
   "outputs": [],
   "source": [
    "# Set length\n",
    "import collections\n",
    "class Solution:\n",
    "    def maxFreq(self, s: str, maxLetters: int, minSize: int, maxSize: int) -> int:\n",
    "        l, d = len(s), collections.defaultdict(int)\n",
    "        for j in range(l+1-minSize): \n",
    "            d[s[j:j+minSize]] += len(set(s[j:j+minSize])) <= maxLetters\n",
    "        return max(d.values())"
   ]
  },
  {
   "cell_type": "code",
   "execution_count": 4,
   "metadata": {},
   "outputs": [],
   "source": [
    "# Rolling counter with hash dict\n",
    "import collections\n",
    "class Solution:\n",
    "    def maxFreq(self, s: str, maxLetters: int, minSize: int, maxSize: int) -> int:\n",
    "        l, d, dd = len(s), collections.defaultdict(int), collections.defaultdict(int)\n",
    "        count = 0\n",
    "        for j in range(l): \n",
    "            if not dd[s[j]]: count += 1\n",
    "            dd[s[j]] += 1\n",
    "            if j >= minSize:\n",
    "                dd[s[j-minSize]] -= 1\n",
    "                if not dd[s[j-minSize]]: count -= 1\n",
    "            if j >= minSize-1:\n",
    "                d[s[j-minSize+1:j+1]] += count <= maxLetters\n",
    "        return max(d.values())"
   ]
  },
  {
   "cell_type": "code",
   "execution_count": null,
   "metadata": {},
   "outputs": [],
   "source": []
  }
 ],
 "metadata": {
  "kernelspec": {
   "display_name": "Python 3",
   "language": "python",
   "name": "python3"
  },
  "language_info": {
   "codemirror_mode": {
    "name": "ipython",
    "version": 3
   },
   "file_extension": ".py",
   "mimetype": "text/x-python",
   "name": "python",
   "nbconvert_exporter": "python",
   "pygments_lexer": "ipython3",
   "version": "3.6.8"
  }
 },
 "nbformat": 4,
 "nbformat_minor": 2
}
