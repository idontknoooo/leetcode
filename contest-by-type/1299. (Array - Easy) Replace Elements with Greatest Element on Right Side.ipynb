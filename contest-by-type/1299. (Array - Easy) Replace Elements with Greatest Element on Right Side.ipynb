{
 "cells": [
  {
   "cell_type": "code",
   "execution_count": 1,
   "metadata": {},
   "outputs": [],
   "source": [
    "from typing import List"
   ]
  },
  {
   "cell_type": "code",
   "execution_count": 2,
   "metadata": {},
   "outputs": [],
   "source": [
    "# m: max from right\n",
    "# tmp: current value\n",
    "class Solution:\n",
    "    def replaceElements(self, arr: List[int]) -> List[int]:\n",
    "        if not arr: return []\n",
    "        m = -1\n",
    "        for i in range(len(arr)-1, -1, -1):\n",
    "            tmp = arr[i]\n",
    "            arr[i] = m\n",
    "            m = max(m, tmp)\n",
    "        return arr    "
   ]
  }
 ],
 "metadata": {
  "kernelspec": {
   "display_name": "Python 3",
   "language": "python",
   "name": "python3"
  },
  "language_info": {
   "codemirror_mode": {
    "name": "ipython",
    "version": 3
   },
   "file_extension": ".py",
   "mimetype": "text/x-python",
   "name": "python",
   "nbconvert_exporter": "python",
   "pygments_lexer": "ipython3",
   "version": "3.6.8"
  }
 },
 "nbformat": 4,
 "nbformat_minor": 2
}
