{
 "cells": [
  {
   "cell_type": "code",
   "execution_count": 1,
   "metadata": {},
   "outputs": [],
   "source": [
    "from typing import List\n",
    "# This question can NOT be solved with Union Find, because\n",
    "# if you can jump from a to b, doesn't mean you can jump back from b \n",
    "# thus, they are not really \"connected\"\n",
    "# in this way, do an intuitive BFS is the optimal solution"
   ]
  },
  {
   "cell_type": "code",
   "execution_count": 2,
   "metadata": {},
   "outputs": [],
   "source": [
    "# BFS with 2 while loop \n",
    "class Solution:\n",
    "    def canReach(self, arr: List[int], start: int) -> bool:\n",
    "        queue, l = [start], len(arr)\n",
    "        visited = [False] * l\n",
    "        while queue:\n",
    "            tmp_q = []\n",
    "            while queue:\n",
    "                cur = queue.pop()\n",
    "                if visited[cur]: continue\n",
    "                visited[cur] = True\n",
    "                if not arr[cur]:\n",
    "                    return True\n",
    "                left, right = cur - arr[cur], cur + arr[cur]\n",
    "                if 0 <= left:\n",
    "                    tmp_q.append(left)\n",
    "                if right < l:\n",
    "                    tmp_q.append(right)\n",
    "            queue = tmp_q\n",
    "        return False"
   ]
  },
  {
   "cell_type": "code",
   "execution_count": null,
   "metadata": {},
   "outputs": [],
   "source": [
    "# BFS with 1 while loop & pop left (deque)\n",
    "class Solution:\n",
    "    def canReach(self, arr: List[int], start: int) -> bool:\n",
    "        queue, l = [start], len(arr)\n",
    "        visited = [False] * l\n",
    "        while queue:\n",
    "            cur = queue.pop(0)\n",
    "            if visited[cur]: continue\n",
    "            visited[cur] = True\n",
    "            if not arr[cur]:\n",
    "                return True\n",
    "            left, right = cur - arr[cur], cur + arr[cur]\n",
    "            if 0 <= left:\n",
    "                queue.append(left)\n",
    "            if right < l:\n",
    "                queue.append(right)\n",
    "        return False"
   ]
  }
 ],
 "metadata": {
  "kernelspec": {
   "display_name": "Python 3",
   "language": "python",
   "name": "python3"
  },
  "language_info": {
   "codemirror_mode": {
    "name": "ipython",
    "version": 3
   },
   "file_extension": ".py",
   "mimetype": "text/x-python",
   "name": "python",
   "nbconvert_exporter": "python",
   "pygments_lexer": "ipython3",
   "version": "3.6.8"
  }
 },
 "nbformat": 4,
 "nbformat_minor": 2
}
