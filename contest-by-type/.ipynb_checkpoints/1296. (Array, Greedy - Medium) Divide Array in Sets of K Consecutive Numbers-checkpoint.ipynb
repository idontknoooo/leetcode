{
 "cells": [
  {
   "cell_type": "code",
   "execution_count": 1,
   "metadata": {},
   "outputs": [],
   "source": [
    "from typing import List"
   ]
  },
  {
   "cell_type": "code",
   "execution_count": 3,
   "metadata": {},
   "outputs": [],
   "source": [
    "import collections\n",
    "class Solution:\n",
    "    def isPossibleDivide(self, nums: List[int], k: int) -> bool:\n",
    "        if len(nums) % k: return False\n",
    "        n = len(nums) // k\n",
    "#         d = collections.Count(nums)\n",
    "        d = collections.defaultdict(int)\n",
    "        for num in nums:\n",
    "            d[num] += 1\n",
    "        while n > 0:    \n",
    "            tmp_k = 0\n",
    "            prev = None\n",
    "            for key in sorted(d.keys()):\n",
    "                if prev and prev+1 != key:\n",
    "                    return False\n",
    "                prev = key\n",
    "                d[key] -= 1\n",
    "                if d[key] == 0:\n",
    "                    del d[key]\n",
    "#                     d.pop(key)\n",
    "                tmp_k += 1    \n",
    "                if tmp_k == k:\n",
    "                    break    \n",
    "            n -= 1        \n",
    "        return True"
   ]
  }
 ],
 "metadata": {
  "kernelspec": {
   "display_name": "Python 3",
   "language": "python",
   "name": "python3"
  },
  "language_info": {
   "codemirror_mode": {
    "name": "ipython",
    "version": 3
   },
   "file_extension": ".py",
   "mimetype": "text/x-python",
   "name": "python",
   "nbconvert_exporter": "python",
   "pygments_lexer": "ipython3",
   "version": "3.6.8"
  }
 },
 "nbformat": 4,
 "nbformat_minor": 2
}
