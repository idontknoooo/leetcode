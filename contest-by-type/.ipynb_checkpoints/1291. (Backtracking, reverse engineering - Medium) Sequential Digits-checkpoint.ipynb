{
 "cells": [
  {
   "cell_type": "code",
   "execution_count": 2,
   "metadata": {},
   "outputs": [],
   "source": [
    "# type: Backtracking, reverse engineering \n",
    "from typing import List"
   ]
  },
  {
   "cell_type": "code",
   "execution_count": 3,
   "metadata": {},
   "outputs": [],
   "source": [
    "class Solution:\n",
    "    def sequentialDigits(self, low: int, high: int) -> List[int]:\n",
    "        ans = []\n",
    "        for digit in range(1, 9):\n",
    "            num = cur = digit\n",
    "            while num <= high and cur < 10:\n",
    "                if num >= low:\n",
    "                    ans.append(num)\n",
    "                cur += 1\n",
    "                num = num * 10 + cur\n",
    "        return sorted(ans)"
   ]
  },
  {
   "cell_type": "code",
   "execution_count": null,
   "metadata": {},
   "outputs": [],
   "source": [
    "# We can start from the smallest number above low, then keep increasing until high\n",
    "# But this is not ideal.\n",
    "# There are not much sequential digits anyway (from 1 to 10^9), thus, we can simply burst all number \n",
    "# and check if they are between low & high"
   ]
  }
 ],
 "metadata": {
  "kernelspec": {
   "display_name": "Python 3",
   "language": "python",
   "name": "python3"
  },
  "language_info": {
   "codemirror_mode": {
    "name": "ipython",
    "version": 3
   },
   "file_extension": ".py",
   "mimetype": "text/x-python",
   "name": "python",
   "nbconvert_exporter": "python",
   "pygments_lexer": "ipython3",
   "version": "3.6.8"
  }
 },
 "nbformat": 4,
 "nbformat_minor": 2
}
