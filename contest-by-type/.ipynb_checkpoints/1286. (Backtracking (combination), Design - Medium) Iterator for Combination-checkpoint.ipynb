{
 "cells": [
  {
   "cell_type": "code",
   "execution_count": 1,
   "metadata": {},
   "outputs": [],
   "source": [
    "# type: Backtracking(combination), Design"
   ]
  },
  {
   "cell_type": "code",
   "execution_count": null,
   "metadata": {},
   "outputs": [],
   "source": [
    "### import itertools\n",
    "class CombinationIterator:\n",
    "\n",
    "    def __init__(self, characters: str, combinationLength: int):\n",
    "        self.i = 0  # index\n",
    "        self.c = [''.join(i) for i in list(itertools.combinations(characters, combinationLength))]\n",
    "        self.l = len(self.c)  # length\n",
    "        \n",
    "    def next(self) -> str:\n",
    "        self.i += 1\n",
    "        return self.c[self.i-1]\n",
    "        \n",
    "\n",
    "    def hasNext(self) -> bool:\n",
    "        return self.i < self.l \n",
    "        \n",
    "\n",
    "\n",
    "# Your CombinationIterator object will be instantiated and called as such:\n",
    "# obj = CombinationIterator(characters, combinationLength)\n",
    "# param_1 = obj.next()\n",
    "# param_2 = obj.hasNext()"
   ]
  }
 ],
 "metadata": {
  "kernelspec": {
   "display_name": "Python 3",
   "language": "python",
   "name": "python3"
  },
  "language_info": {
   "codemirror_mode": {
    "name": "ipython",
    "version": 3
   },
   "file_extension": ".py",
   "mimetype": "text/x-python",
   "name": "python",
   "nbconvert_exporter": "python",
   "pygments_lexer": "ipython3",
   "version": "3.6.8"
  }
 },
 "nbformat": 4,
 "nbformat_minor": 2
}
