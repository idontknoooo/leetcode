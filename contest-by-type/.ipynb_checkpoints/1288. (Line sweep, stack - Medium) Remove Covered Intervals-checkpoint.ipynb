{
 "cells": [
  {
   "cell_type": "code",
   "execution_count": null,
   "metadata": {},
   "outputs": [],
   "source": [
    "# type: line sweep, stack"
   ]
  },
  {
   "cell_type": "code",
   "execution_count": null,
   "metadata": {},
   "outputs": [],
   "source": [
    "# Stack\n",
    "class Solution:\n",
    "    def removeCoveredIntervals(self, intervals: List[List[int]]) -> int:\n",
    "        if not intervals: return 0\n",
    "        intervals = sorted(intervals)\n",
    "        stack = [intervals[0]]\n",
    "        i = 1\n",
    "        for idx, (l, r) in enumerate(intervals[1:]):\n",
    "            if stack[-1][0] <= l and r <= stack[-1][1]:\n",
    "                pass\n",
    "            else:\n",
    "                stack.append([l, r])\n",
    "                i += 1\n",
    "        return i"
   ]
  },
  {
   "cell_type": "code",
   "execution_count": null,
   "metadata": {},
   "outputs": [],
   "source": [
    "# Line sweep\n",
    "def removeCoveredIntervals(self, A):\n",
    "        res = right = 0\n",
    "        for i, j in sorted(A, key=lambda a: [a[0], -a[1]]):\n",
    "            res += j > right\n",
    "            right = max(right, j)\n",
    "        return res"
   ]
  }
 ],
 "metadata": {
  "kernelspec": {
   "display_name": "Python 3",
   "language": "python",
   "name": "python3"
  },
  "language_info": {
   "codemirror_mode": {
    "name": "ipython",
    "version": 3
   },
   "file_extension": ".py",
   "mimetype": "text/x-python",
   "name": "python",
   "nbconvert_exporter": "python",
   "pygments_lexer": "ipython3",
   "version": "3.6.8"
  }
 },
 "nbformat": 4,
 "nbformat_minor": 2
}
