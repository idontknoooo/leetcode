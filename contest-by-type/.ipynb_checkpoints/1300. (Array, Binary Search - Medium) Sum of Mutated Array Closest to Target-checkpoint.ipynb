{
 "cells": [
  {
   "cell_type": "code",
   "execution_count": 2,
   "metadata": {},
   "outputs": [],
   "source": [
    "from typing import List"
   ]
  },
  {
   "cell_type": "code",
   "execution_count": 3,
   "metadata": {},
   "outputs": [],
   "source": [
    "# Binary Search using boundary (0, 10**5)\n",
    "# Time Complexity O(nlgn)\n",
    "class Solution:\n",
    "    def sum_ceil_at_m(self, arr, m):\n",
    "        s = 0\n",
    "        for val in arr:\n",
    "            s += min(m, val)\n",
    "        return s        \n",
    "    def findBestValue(self, arr: List[int], target: int) -> int:\n",
    "        l, r = 0, 10**5\n",
    "        diff = abs(sum(arr) - target)\n",
    "        # diff: [m1, m2, ...]\n",
    "        # m: selected threshold integer\n",
    "        # diff: diff when level at m\n",
    "        res = collections.defaultdict(list)\n",
    "        while r - l >= 0:\n",
    "            m = (l + r) // 2\n",
    "            s = self.sum_ceil_at_m(arr, m)\n",
    "            tmp_diff = abs(s - target)\n",
    "            if tmp_diff <= diff:\n",
    "                diff = tmp_diff\n",
    "                res[diff].append(m) \n",
    "            if s < target:\n",
    "                l = m + 1\n",
    "            else: \n",
    "                r = m - 1\n",
    "        return min(res[diff])"
   ]
  },
  {
   "cell_type": "code",
   "execution_count": 13,
   "metadata": {},
   "outputs": [],
   "source": [
    "# Sort O(nlgn) + O(n)\n",
    "class Solution:\n",
    "    def findBestValue(self, A, target):\n",
    "        A.sort(reverse=True)\n",
    "        maxA = A[0]\n",
    "        # keep eliminating valid number\n",
    "        while A and target >= A[-1] * len(A):\n",
    "            target -= A.pop()\n",
    "        if not A:\n",
    "            return maxA\n",
    "        else:\n",
    "            # n best threshold for the rest in A\n",
    "            # if n <= x.5, then return x, anything greater than x should become x\n",
    "            # if n > x.5, return x+1, anything greater than x+1 should become x+1\n",
    "            # n <= x.5 is more strict\n",
    "            n = target / len(A)\n",
    "            return math.ceil(n) if n % 1 > 0.5 else math.floor(n)"
   ]
  },
  {
   "cell_type": "code",
   "execution_count": null,
   "metadata": {},
   "outputs": [],
   "source": []
  }
 ],
 "metadata": {
  "kernelspec": {
   "display_name": "Python 3",
   "language": "python",
   "name": "python3"
  },
  "language_info": {
   "codemirror_mode": {
    "name": "ipython",
    "version": 3
   },
   "file_extension": ".py",
   "mimetype": "text/x-python",
   "name": "python",
   "nbconvert_exporter": "python",
   "pygments_lexer": "ipython3",
   "version": "3.6.8"
  }
 },
 "nbformat": 4,
 "nbformat_minor": 2
}
