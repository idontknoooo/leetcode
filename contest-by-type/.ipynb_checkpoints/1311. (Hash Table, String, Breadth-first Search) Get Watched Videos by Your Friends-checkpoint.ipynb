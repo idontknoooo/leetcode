{
 "cells": [
  {
   "cell_type": "code",
   "execution_count": 4,
   "metadata": {},
   "outputs": [],
   "source": [
    "from typing import List\n",
    "# BFS brutal force\n",
    "# BFS, Counter, sort dictionary by value\n",
    "# Time Complexity: O(nlgn)"
   ]
  },
  {
   "cell_type": "code",
   "execution_count": 3,
   "metadata": {},
   "outputs": [],
   "source": [
    "import collections\n",
    "class Solution:\n",
    "    def watchedVideosByFriends(self, watchedVideos: List[List[str]], friends: List[List[int]], my_id: int, level: int) -> List[str]:\n",
    "        # Queue & avoid visited\n",
    "        queue, visited = [my_id], set(queue)\n",
    "        while queue and level:\n",
    "            tmp_queue = []\n",
    "            while queue:\n",
    "                cur_friend = queue.pop()\n",
    "                next_level_friends = friends[cur_friend]\n",
    "                for friend in next_level_friends:\n",
    "                    if friend not in visited:\n",
    "                        visited.add(friend)\n",
    "                        tmp_queue.append(friend)\n",
    "            level -= 1\n",
    "            queue = tmp_queue\n",
    "        # Get familiar with Counter\n",
    "        movie_freq = collections.Counter([movie for friend in queue for movie in watchedVideos[friend]])\n",
    "        # Sort dictionary by value\n",
    "        ans = [movie for movie, freq in sorted(movie_freq.items(), key=lambda x: (x[1], x[0]))]\n",
    "        return ans"
   ]
  }
 ],
 "metadata": {
  "kernelspec": {
   "display_name": "Python 3",
   "language": "python",
   "name": "python3"
  },
  "language_info": {
   "codemirror_mode": {
    "name": "ipython",
    "version": 3
   },
   "file_extension": ".py",
   "mimetype": "text/x-python",
   "name": "python",
   "nbconvert_exporter": "python",
   "pygments_lexer": "ipython3",
   "version": "3.6.8"
  }
 },
 "nbformat": 4,
 "nbformat_minor": 2
}
