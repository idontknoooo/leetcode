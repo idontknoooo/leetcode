{
 "cells": [
  {
   "cell_type": "code",
   "execution_count": 3,
   "metadata": {},
   "outputs": [],
   "source": [
    "from typing import List\n",
    "# Definition for a binary tree node.\n",
    "class TreeNode:\n",
    "    def __init__(self, x):\n",
    "        self.val = x\n",
    "        self.left = None\n",
    "        self.right = None"
   ]
  },
  {
   "cell_type": "code",
   "execution_count": 4,
   "metadata": {},
   "outputs": [],
   "source": [
    "# My level order traversal (iterative)\n",
    "class Solution:\n",
    "    def deepestLeavesSum(self, root: TreeNode) -> int:\n",
    "        queue, ans = [root], 0\n",
    "        while queue:\n",
    "            tmp, val = [], 0\n",
    "            while queue:\n",
    "                cur = queue.pop()\n",
    "                if cur:\n",
    "                    val += cur.val\n",
    "                    tmp.append(cur.left)\n",
    "                    tmp.append(cur.right)\n",
    "            ans = val if val else ans\n",
    "            queue = tmp \n",
    "        return ans"
   ]
  },
  {
   "cell_type": "code",
   "execution_count": null,
   "metadata": {},
   "outputs": [],
   "source": [
    "# DFS\n",
    "class Solution:\n",
    "    def deepestLeavesSum(self, root: TreeNode) -> int:\n",
    "        if not root:\n",
    "            return 0\n",
    "        \n",
    "        max_depth = -1\n",
    "        max_sum = 0\n",
    "        \n",
    "        stack = [(root, 0)]\n",
    "        \n",
    "        while stack:\n",
    "            node, depth = stack.pop()\n",
    "            \n",
    "            if not node.left and not node.right:\n",
    "                if depth > max_depth:\n",
    "                    max_depth = depth\n",
    "                    max_sum = node.val\n",
    "                elif depth == max_depth:\n",
    "                    max_sum += node.val\n",
    "            \n",
    "            if node.right:\n",
    "                stack.append((node.right, depth + 1))\n",
    "            if node.left:\n",
    "                stack.append((node.left, depth + 1))\n",
    "        \n",
    "        return max_sum"
   ]
  }
 ],
 "metadata": {
  "kernelspec": {
   "display_name": "Python 3",
   "language": "python",
   "name": "python3"
  },
  "language_info": {
   "codemirror_mode": {
    "name": "ipython",
    "version": 3
   },
   "file_extension": ".py",
   "mimetype": "text/x-python",
   "name": "python",
   "nbconvert_exporter": "python",
   "pygments_lexer": "ipython3",
   "version": "3.6.8"
  }
 },
 "nbformat": 4,
 "nbformat_minor": 2
}
