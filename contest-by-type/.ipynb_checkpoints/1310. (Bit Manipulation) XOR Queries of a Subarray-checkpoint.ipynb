{
 "cells": [
  {
   "cell_type": "code",
   "execution_count": 1,
   "metadata": {},
   "outputs": [
    {
     "name": "stdout",
     "output_type": "stream",
     "text": [
      "done\n"
     ]
    }
   ],
   "source": [
    "from typing import List\n",
    "# Algorithm of Xor\n",
    "# c = a ^ b\n",
    "# a = c ^ b\n",
    "# Proof below\n",
    "for a in range(100):\n",
    "    for b in range(100):\n",
    "        c = a ^ b\n",
    "        if c ^ b != a:\n",
    "            print(a, b, c)\n",
    "print(\"done\")"
   ]
  },
  {
   "cell_type": "code",
   "execution_count": 2,
   "metadata": {},
   "outputs": [],
   "source": [
    "class Solution:\n",
    "    def xorQueries(self, arr: List[int], queries: List[List[int]]) -> List[int]:\n",
    "        for i in range(len(arr) - 1):\n",
    "            arr[i + 1] ^= arr[i]\n",
    "        ans = []\n",
    "        for (l, r) in queries:\n",
    "            if not l:\n",
    "                ans.append(arr[r])\n",
    "            else:\n",
    "                ans.append(arr[l-1] ^ arr[r])\n",
    "        return ans"
   ]
  },
  {
   "cell_type": "code",
   "execution_count": null,
   "metadata": {},
   "outputs": [],
   "source": []
  }
 ],
 "metadata": {
  "kernelspec": {
   "display_name": "Python 3",
   "language": "python",
   "name": "python3"
  },
  "language_info": {
   "codemirror_mode": {
    "name": "ipython",
    "version": 3
   },
   "file_extension": ".py",
   "mimetype": "text/x-python",
   "name": "python",
   "nbconvert_exporter": "python",
   "pygments_lexer": "ipython3",
   "version": "3.6.8"
  }
 },
 "nbformat": 4,
 "nbformat_minor": 2
}
