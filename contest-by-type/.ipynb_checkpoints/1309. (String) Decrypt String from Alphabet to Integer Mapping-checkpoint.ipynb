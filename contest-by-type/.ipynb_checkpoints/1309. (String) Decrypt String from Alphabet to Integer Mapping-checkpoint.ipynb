{
 "cells": [
  {
   "cell_type": "code",
   "execution_count": 2,
   "metadata": {},
   "outputs": [],
   "source": [
    "# Time complexity: O(n)\n",
    "# Easier to read '#' from right to left"
   ]
  },
  {
   "cell_type": "code",
   "execution_count": 1,
   "metadata": {},
   "outputs": [],
   "source": [
    "class Solution:\n",
    "    def freqAlphabets(self, s: str) -> str:\n",
    "        a_index, ans = ord('a'), ''\n",
    "        i = len(s) - 1\n",
    "        while i >= 0:\n",
    "            if s[i] == '#':\n",
    "                cur = int(s[i-2:i])\n",
    "                i -= 3\n",
    "            else:    \n",
    "                cur = int(s[i])\n",
    "                i -= 1\n",
    "            ans += chr(a_index + cur-1)\n",
    "                \n",
    "        return ans[::-1]"
   ]
  }
 ],
 "metadata": {
  "kernelspec": {
   "display_name": "Python 3",
   "language": "python",
   "name": "python3"
  },
  "language_info": {
   "codemirror_mode": {
    "name": "ipython",
    "version": 3
   },
   "file_extension": ".py",
   "mimetype": "text/x-python",
   "name": "python",
   "nbconvert_exporter": "python",
   "pygments_lexer": "ipython3",
   "version": "3.6.8"
  }
 },
 "nbformat": 4,
 "nbformat_minor": 2
}
