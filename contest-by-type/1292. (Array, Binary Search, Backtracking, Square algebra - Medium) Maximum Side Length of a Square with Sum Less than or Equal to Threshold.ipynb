{
 "cells": [
  {
   "cell_type": "code",
   "execution_count": null,
   "metadata": {},
   "outputs": [],
   "source": [
    "# type: Array, Binary Search, Backtracking, Square algebra"
   ]
  },
  {
   "cell_type": "code",
   "execution_count": null,
   "metadata": {},
   "outputs": [],
   "source": [
    "class Solution:\n",
    "    def maxSideLength(self, mat: List[List[int]], thanshold: int) -> int:\n",
    "        m, n = len(mat), len(mat[0])\n",
    "        # Current max square sum \n",
    "        for i in range(m):\n",
    "            for j in range(n):\n",
    "                if i > 0:\n",
    "                    mat[i][j] += mat[i-1][j]\n",
    "                if j > 0:\n",
    "                    mat[i][j] += mat[i][j-1]\n",
    "                if i > 0 and j > 0:    \n",
    "                    mat[i][j] -= mat[i-1][j-1]\n",
    "            \n",
    "        ans = 0  # maximum row/column size of sub-matrix so far\n",
    "        for i in range(1, m):\n",
    "            for j in range(1, n):\n",
    "                r = min(i, j) + 1\n",
    "                if mat[i][j] <= thanshold:\n",
    "                    ans = max(ans, r)\n",
    "                for k in range(max(1,ans), r):  # no need to start from 1 again\n",
    "                    # Sub-square sum algorithm\n",
    "                    val = mat[i][j] - mat[i][j-k] - mat[i-k][j] + mat[i-k][j-k]\n",
    "                    if val <= thanshold: \n",
    "                        ans = max(ans, k)\n",
    "                    else:\n",
    "                        break\n",
    "        return ans"
   ]
  }
 ],
 "metadata": {
  "kernelspec": {
   "display_name": "Python 3",
   "language": "python",
   "name": "python3"
  },
  "language_info": {
   "codemirror_mode": {
    "name": "ipython",
    "version": 3
   },
   "file_extension": ".py",
   "mimetype": "text/x-python",
   "name": "python",
   "nbconvert_exporter": "python",
   "pygments_lexer": "ipython3",
   "version": "3.6.8"
  }
 },
 "nbformat": 4,
 "nbformat_minor": 2
}
