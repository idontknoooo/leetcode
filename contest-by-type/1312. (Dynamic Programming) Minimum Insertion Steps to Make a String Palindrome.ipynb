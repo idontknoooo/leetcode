{
 "cells": [
  {
   "cell_type": "code",
   "execution_count": 1,
   "metadata": {},
   "outputs": [],
   "source": [
    "# Time Complexity: O(n**2)\n",
    "# Longest Common Subsequence\n",
    "# Palindrome using insertion: \n",
    "#     the minimum insertion is for the longest \n",
    "#     common sequence of the reverse string,\n",
    "#     since sequence keeps the order"
   ]
  },
  {
   "cell_type": "code",
   "execution_count": 2,
   "metadata": {},
   "outputs": [],
   "source": [
    "class Solution:\n",
    "    def minInsertions(self, s: str) -> int:\n",
    "        if s == s[::-1]: return 0\n",
    "        l = len(s)\n",
    "        dp = [[0] * (l+1) for _ in range(l+1)]\n",
    "        for i in range(1, l+1):\n",
    "            for j in range(1, l+1):\n",
    "                if s[i-1] == s[~(j-1)]:\n",
    "                    dp[i][j] = dp[i-1][j-1] + 1\n",
    "                else:    \n",
    "                    dp[i][j] = max(dp[i-1][j], dp[i][j-1])\n",
    "        return l - dp[l][l]"
   ]
  }
 ],
 "metadata": {
  "kernelspec": {
   "display_name": "Python 3",
   "language": "python",
   "name": "python3"
  },
  "language_info": {
   "codemirror_mode": {
    "name": "ipython",
    "version": 3
   },
   "file_extension": ".py",
   "mimetype": "text/x-python",
   "name": "python",
   "nbconvert_exporter": "python",
   "pygments_lexer": "ipython3",
   "version": "3.6.8"
  }
 },
 "nbformat": 4,
 "nbformat_minor": 2
}
