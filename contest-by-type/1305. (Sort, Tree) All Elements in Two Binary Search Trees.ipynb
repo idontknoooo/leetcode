{
 "cells": [
  {
   "cell_type": "code",
   "execution_count": 2,
   "metadata": {},
   "outputs": [],
   "source": [
    "from typing import List\n",
    "# Definition for a binary tree node.\n",
    "class TreeNode:\n",
    "    def __init__(self, x):\n",
    "        self.val = x\n",
    "        self.left = None\n",
    "        self.right = None"
   ]
  },
  {
   "cell_type": "code",
   "execution_count": 4,
   "metadata": {},
   "outputs": [],
   "source": [
    "# In-order traversal & Two Pointers\n",
    "class Solution:\n",
    "    # Get List for each tree (pre-order traversal)\n",
    "    def get_list_from_root(self, root, ans):\n",
    "        if root:\n",
    "            self.get_list_from_root(root.left, ans)\n",
    "            ans.append(root.val)\n",
    "            self.get_list_from_root(root.right, ans)\n",
    "        return ans   \n",
    "    # Use 2 pointers to sort 2 lists\n",
    "    def getAllElements(self, root1: TreeNode, root2: TreeNode) -> List[int]:\n",
    "        list1 = self.get_list_from_root(root1, [])\n",
    "        list2 = self.get_list_from_root(root2, [])\n",
    "        i = j = 0\n",
    "        l1, l2 = len(list1), len(list2)\n",
    "        ans =  []\n",
    "        while i < l1 and j < l2:\n",
    "            if list1[i] < list2[j]:\n",
    "                ans.append(list1[i])\n",
    "                i += 1\n",
    "            else:    \n",
    "                ans.append(list2[j])\n",
    "                j += 1\n",
    "        if i < l1:        \n",
    "            ans += list1[i:]\n",
    "        if j < l2:    \n",
    "            ans += list2[j:]\n",
    "        return ans    "
   ]
  },
  {
   "cell_type": "code",
   "execution_count": null,
   "metadata": {},
   "outputs": [],
   "source": [
    "# Pre-order traversal & Sort\n",
    "class Solution:\n",
    "    def getAllElements(self, R1: TreeNode, R2: TreeNode) -> List[int]:\n",
    "        A = []\n",
    "        def dfs(T):\n",
    "            A.append(T.val)\n",
    "            if T.left != None: dfs(T.left)\n",
    "            if T.right != None: dfs(T.right)\n",
    "        if R1 != None: dfs(R1)\n",
    "        if R2 != None: dfs(R2)\n",
    "        return sorted(A)"
   ]
  }
 ],
 "metadata": {
  "kernelspec": {
   "display_name": "Python 3",
   "language": "python",
   "name": "python3"
  },
  "language_info": {
   "codemirror_mode": {
    "name": "ipython",
    "version": 3
   },
   "file_extension": ".py",
   "mimetype": "text/x-python",
   "name": "python",
   "nbconvert_exporter": "python",
   "pygments_lexer": "ipython3",
   "version": "3.6.8"
  }
 },
 "nbformat": 4,
 "nbformat_minor": 2
}
