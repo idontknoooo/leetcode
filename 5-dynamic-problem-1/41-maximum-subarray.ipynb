{
 "cells": [
  {
   "cell_type": "markdown",
   "metadata": {},
   "source": [
    "### 1. Kadane's Algorithm\n",
    "- Initial State: first number\n",
    "- Transitional Function: cur_max = max(num, cur_max + num)\n",
    "- Final state: ans"
   ]
  },
  {
   "cell_type": "code",
   "execution_count": 1,
   "metadata": {},
   "outputs": [],
   "source": [
    "class Solution:\n",
    "    \"\"\"\n",
    "    @param nums: A list of integers\n",
    "    @return: A integer indicate the sum of max subarray\n",
    "    \"\"\"\n",
    "    def maxSubArray(self, A):\n",
    "        max_ending_here = max_so_far = A[0]\n",
    "        for x in A[1:]:\n",
    "            max_ending_here = max(x, max_ending_here + x)\n",
    "            max_so_far = max(max_so_far, max_ending_here)\n",
    "        return max_so_far"
   ]
  },
  {
   "cell_type": "markdown",
   "metadata": {},
   "source": [
    "### 2. Other DP method\n",
    "- Initial State: Sum is 0 and assuming no negative\n",
    "- Transitional Function: cur = max(cur+num, 0) and ans = max(ans, cur), also find maximum in case all numbers are negative \n",
    "- Final result: Max value of array when all negative, otherwise return ans"
   ]
  },
  {
   "cell_type": "code",
   "execution_count": null,
   "metadata": {},
   "outputs": [],
   "source": [
    "class Solution:\n",
    "    \"\"\"\n",
    "    @param nums: A list of integers\n",
    "    @return: A integer indicate the sum of max subarray\n",
    "    \"\"\"\n",
    "    def maxSubArray(self, nums):\n",
    "        ans = cur = 0\n",
    "        max_val = -float('inf')\n",
    "        for num in nums:\n",
    "            max_val = max(max_val, num)\n",
    "            cur = max(cur+num, 0)\n",
    "            ans = max(ans, cur)\n",
    "        return ans if max_val > 0 else max_val"
   ]
  }
 ],
 "metadata": {
  "kernelspec": {
   "display_name": "Python 3",
   "language": "python",
   "name": "python3"
  },
  "language_info": {
   "codemirror_mode": {
    "name": "ipython",
    "version": 3
   },
   "file_extension": ".py",
   "mimetype": "text/x-python",
   "name": "python",
   "nbconvert_exporter": "python",
   "pygments_lexer": "ipython3",
   "version": "3.6.8"
  }
 },
 "nbformat": 4,
 "nbformat_minor": 2
}
