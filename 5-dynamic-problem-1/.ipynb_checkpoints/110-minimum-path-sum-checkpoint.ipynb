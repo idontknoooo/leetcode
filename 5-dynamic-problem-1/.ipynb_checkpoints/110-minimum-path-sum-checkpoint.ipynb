{
 "cells": [
  {
   "cell_type": "markdown",
   "metadata": {},
   "source": [
    "### 1. Recursive method, ok but no the best since it can use up stack\n",
    "- `O(n**2)` time, `O(n**2)` space"
   ]
  },
  {
   "cell_type": "code",
   "execution_count": 1,
   "metadata": {},
   "outputs": [],
   "source": [
    "class Solution:\n",
    "    \"\"\"\n",
    "    @param grid: a list of lists of integers\n",
    "    @return: An integer, minimizes the sum of all numbers along its path\n",
    "    \"\"\"\n",
    "    def minPathSum(self, grid):\n",
    "        # write your code here\n",
    "        r, c = len(grid) - 1, len(grid[0]) - 1\n",
    "        return self.helper(grid, r, c)\n",
    "\n",
    "    def helper(self, grid, r, c):\n",
    "        if r-1 < 0 and c - 1 < 0:\n",
    "            return grid[0][0]\n",
    "        elif r-1 < 0 and c-1 >= 0:\n",
    "            return self.helper(grid, r, c-1) + grid[r][c]\n",
    "        elif r-1 >= 0 and c-1 < 0:\n",
    "            return self.helper(grid, r-1, c) + grid[r][c]\n",
    "        else:\n",
    "            return min(self.helper(grid, r-1, c), self.helper(grid, r, c-1)) + grid[r][c]"
   ]
  },
  {
   "cell_type": "markdown",
   "metadata": {},
   "source": [
    "### 2. Iterative method \n",
    "- `O(n**2)` time, constant space"
   ]
  },
  {
   "cell_type": "code",
   "execution_count": 2,
   "metadata": {},
   "outputs": [],
   "source": [
    "class Solution:\n",
    "    \"\"\"\n",
    "    @param grid: a list of lists of integers\n",
    "    @return: An integer, minimizes the sum of all numbers along its path\n",
    "    \"\"\"\n",
    "    def minPathSum(self, grid):\n",
    "        for i in range(len(grid)):\n",
    "            for j in range(len(grid[i])):\n",
    "                if i == 0 and j == 0:\n",
    "                    pass\n",
    "                elif i == 0 and j >= 1:\n",
    "                    grid[i][j] += grid[i][j-1]\n",
    "                elif i >= 1 and j == 0:    \n",
    "                    grid[i][j] += grid[i-1][j]\n",
    "                else:    \n",
    "                    grid[i][j] += min(grid[i-1][j], grid[i][j-1])\n",
    "        return grid[-1][-1]            "
   ]
  },
  {
   "cell_type": "code",
   "execution_count": null,
   "metadata": {},
   "outputs": [],
   "source": []
  }
 ],
 "metadata": {
  "kernelspec": {
   "display_name": "Python 3",
   "language": "python",
   "name": "python3"
  },
  "language_info": {
   "codemirror_mode": {
    "name": "ipython",
    "version": 3
   },
   "file_extension": ".py",
   "mimetype": "text/x-python",
   "name": "python",
   "nbconvert_exporter": "python",
   "pygments_lexer": "ipython3",
   "version": "3.6.8"
  }
 },
 "nbformat": 4,
 "nbformat_minor": 2
}
