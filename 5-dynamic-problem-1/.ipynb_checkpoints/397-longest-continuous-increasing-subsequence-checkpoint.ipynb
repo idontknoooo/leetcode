{
 "cells": [
  {
   "cell_type": "code",
   "execution_count": 1,
   "metadata": {},
   "outputs": [],
   "source": [
    "class Solution:\n",
    "    \"\"\"\n",
    "    @param A: An array of Integer\n",
    "    @return: an integer\n",
    "    \"\"\"\n",
    "    def longestIncreasingContinuousSubsequence(self, A):\n",
    "        # write your code here\n",
    "        if not A: return 0\n",
    "        ans = increase = decrease = 1\n",
    "        for i, num in enumerate(A[1:]):\n",
    "            if num < A[i]:\n",
    "                increase = 1\n",
    "                decrease += 1\n",
    "            elif A[i] < num:    \n",
    "                increase += 1\n",
    "                decrease = 1\n",
    "            ans = max(ans, increase, decrease)\n",
    "        return ans    "
   ]
  },
  {
   "cell_type": "code",
   "execution_count": null,
   "metadata": {},
   "outputs": [],
   "source": [
    "# Initial State: If there is 1 char, meaning length 1, empty meaning 0\n",
    "# Transitional Function: max(cur_max, (prev_increase or prev_decrease) + 1)\n",
    "# Final State: cur_max after iterate all numbers"
   ]
  }
 ],
 "metadata": {
  "kernelspec": {
   "display_name": "Python 3",
   "language": "python",
   "name": "python3"
  },
  "language_info": {
   "codemirror_mode": {
    "name": "ipython",
    "version": 3
   },
   "file_extension": ".py",
   "mimetype": "text/x-python",
   "name": "python",
   "nbconvert_exporter": "python",
   "pygments_lexer": "ipython3",
   "version": "3.6.8"
  }
 },
 "nbformat": 4,
 "nbformat_minor": 2
}
