{
 "cells": [
  {
   "cell_type": "code",
   "execution_count": null,
   "metadata": {},
   "outputs": [],
   "source": [
    "# DP\n",
    "- Time Complexity: O(n*m), Space Complexity O(m+n)"
   ]
  },
  {
   "cell_type": "code",
   "execution_count": 1,
   "metadata": {},
   "outputs": [],
   "source": [
    "class Solution:\n",
    "    \"\"\"\n",
    "    @param matrix: a matrix of 0 an 1\n",
    "    @return: an integer\n",
    "    \"\"\"\n",
    "    def maxSquare2(self, matrix):\n",
    "        if not matrix or not matrix[0]: return 0\n",
    "        # zeros_on_the_left: \n",
    "        #   number of 0s on the zeros_on_the_left of (i, j), 1 for each row\n",
    "        # zeros_on_the_top: \n",
    "        #   number of 0s on the zeros_on_the_top of (i, j), 1 for each column\n",
    "        zeros_on_the_left, zeros_on_the_top = [0] * len(matrix), [0] * len(matrix[0])\n",
    "        edge = 0\n",
    "        # initialize zeros_on_the_top for the first row\n",
    "        for j in range(len(matrix[0])):\n",
    "            zeros_on_the_top[j] = 1 if not matrix[0][j] else 0\n",
    "        # Walk through the matrix    \n",
    "        for i in range(1, len(matrix)):\n",
    "            edge = max(edge, matrix[i][0]) # update edge for 1st element on each row\n",
    "            # initialize zeros_on_the_left for the first column\n",
    "            zeros_on_the_left[i] = 0 if matrix[i][0] else 1\n",
    "            for j in range(1, len(matrix[0])):\n",
    "                if matrix[i][j]:\n",
    "                    matrix[i][j] = min(zeros_on_the_left[i], zeros_on_the_top[j], matrix[i-1][j-1]) + 1\n",
    "                # as walking to the right, update zeros_on_the_top on this row and zeros_on_the_left    \n",
    "                zeros_on_the_left[i] = 0 if matrix[i][j] else 1 + zeros_on_the_left[i]\n",
    "                zeros_on_the_top[j] = 0 if matrix[i][j] else 1 + zeros_on_the_top[j]\n",
    "                edge = max(edge, matrix[i][j])\n",
    "        return edge * edge        "
   ]
  }
 ],
 "metadata": {
  "kernelspec": {
   "display_name": "Python 3",
   "language": "python",
   "name": "python3"
  },
  "language_info": {
   "codemirror_mode": {
    "name": "ipython",
    "version": 3
   },
   "file_extension": ".py",
   "mimetype": "text/x-python",
   "name": "python",
   "nbconvert_exporter": "python",
   "pygments_lexer": "ipython3",
   "version": "3.6.8"
  }
 },
 "nbformat": 4,
 "nbformat_minor": 2
}
