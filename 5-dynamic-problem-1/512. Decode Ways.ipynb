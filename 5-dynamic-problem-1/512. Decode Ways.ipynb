{
 "cells": [
  {
   "cell_type": "markdown",
   "metadata": {},
   "source": [
    "# 1. Intuitive BFS (timelimit exceeded) \n",
    "- Searching forward (e.g. `s[q:q+2]` not good, should search backward so that keep index consistant `s[q-2:q]`"
   ]
  },
  {
   "cell_type": "code",
   "execution_count": 3,
   "metadata": {},
   "outputs": [],
   "source": [
    "class Solution:\n",
    "    \"\"\"\n",
    "    @param s: a string,  encoded message\n",
    "    @return: an integer, the number of ways decoding\n",
    "    \"\"\"\n",
    "    def numDecodings(self, s):\n",
    "        # write your code here\n",
    "        ans = 0\n",
    "        if not s: return ans\n",
    "        queue = [0]\n",
    "        length = len(s)\n",
    "        while queue:\n",
    "            tmp_q = []\n",
    "            while queue:\n",
    "                q = queue.pop()\n",
    "                if 0 <= q < length and s[q] != '0':\n",
    "                    tmp_q.append(q+1)\n",
    "                    if q < length - 1 and int(s[q:q+2]) <= 26:\n",
    "                        tmp_q.append(q+2)\n",
    "                elif q == length:        \n",
    "                    ans += 1\n",
    "            queue = tmp_q            \n",
    "            \n",
    "        return ans "
   ]
  },
  {
   "cell_type": "markdown",
   "metadata": {},
   "source": [
    "# 2. Dynamic Programming\n",
    "- Initialize array and use - sign track previous values\n",
    "- Memoization"
   ]
  },
  {
   "cell_type": "code",
   "execution_count": 4,
   "metadata": {},
   "outputs": [],
   "source": [
    "class Solution:\n",
    "    \"\"\"\n",
    "    @param s: a string,  encoded message\n",
    "    @return: an integer, the number of ways decoding\n",
    "    \"\"\"\n",
    "    def numDecodings(self, s):\n",
    "        # write your code here\n",
    "        if s == \"\" or s[0] == '0':\n",
    "            return 0\n",
    "\n",
    "        dp = [1, 1]\n",
    "        for i in range(2,len(s) + 1):\n",
    "            if 10 <= int(s[i - 2 : i]) <=26 and s[i - 1] != '0':\n",
    "                dp.append(dp[i - 1] + dp[i - 2])\n",
    "            elif int(s[i-2 : i]) == 10 or int(s[i - 2 : i]) == 20:\n",
    "                dp.append(dp[i - 2])\n",
    "            elif s[i-1] != '0':\n",
    "                dp.append(dp[i-1])\n",
    "            else:\n",
    "                return 0\n",
    "\n",
    "        return dp[len(s)]"
   ]
  },
  {
   "cell_type": "code",
   "execution_count": null,
   "metadata": {},
   "outputs": [],
   "source": []
  }
 ],
 "metadata": {
  "kernelspec": {
   "display_name": "Python 3",
   "language": "python",
   "name": "python3"
  },
  "language_info": {
   "codemirror_mode": {
    "name": "ipython",
    "version": 3
   },
   "file_extension": ".py",
   "mimetype": "text/x-python",
   "name": "python",
   "nbconvert_exporter": "python",
   "pygments_lexer": "ipython3",
   "version": "3.6.8"
  }
 },
 "nbformat": 4,
 "nbformat_minor": 2
}
