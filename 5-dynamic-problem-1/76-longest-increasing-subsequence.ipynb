{
 "cells": [
  {
   "cell_type": "markdown",
   "metadata": {},
   "source": [
    "### DP\n",
    "- `O(n**2)` time, `O(n)` space\n",
    "- Initial State: 1 for current length\n",
    "- Transitional Function: `length[i] = [max(length[i], dp[prev] + 1) for prev in range(i-1, -1, -1)]`\n",
    "- Final State: `max(length)`"
   ]
  },
  {
   "cell_type": "code",
   "execution_count": null,
   "metadata": {},
   "outputs": [],
   "source": [
    "class Solution:\n",
    "    \"\"\"\n",
    "    @param nums: The integer array\n",
    "    @return: The length of LIS (longest increasing subsequence)\n",
    "    \"\"\"\n",
    "    def longestIncreasingSubsequence(self, nums):\n",
    "        if not nums: return 0\n",
    "        dp = [1] * len(nums)\n",
    "        ans = 1\n",
    "        for i, num in enumerate(nums):\n",
    "            tmp_i = i\n",
    "            while tmp_i >= 0:\n",
    "                if num > nums[tmp_i]:\n",
    "                    dp[i] = max(dp[i], dp[tmp_i] + 1)\n",
    "                tmp_i -= 1    \n",
    "            ans = max(ans, dp[i]) \n",
    "        return ans   "
   ]
  }
 ],
 "metadata": {
  "kernelspec": {
   "display_name": "Python 3",
   "language": "python",
   "name": "python3"
  },
  "language_info": {
   "codemirror_mode": {
    "name": "ipython",
    "version": 3
   },
   "file_extension": ".py",
   "mimetype": "text/x-python",
   "name": "python",
   "nbconvert_exporter": "python",
   "pygments_lexer": "ipython3",
   "version": "3.6.8"
  }
 },
 "nbformat": 4,
 "nbformat_minor": 2
}
