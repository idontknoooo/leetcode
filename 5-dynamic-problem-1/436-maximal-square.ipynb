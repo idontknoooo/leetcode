{
 "cells": [
  {
   "cell_type": "markdown",
   "metadata": {},
   "source": [
    "# Dynamic Programming\n",
    "- Pattern: `dp[i][j] = min(dp[i-1][j], dp[i-1][j-1], dp[i][j-1]) + 1`\n",
    "- How to think: \n",
    "    - Start with 1 x 1 matrix, then 2 x 2, then 2 x 4 maybe, find the pattern\n",
    "    - Iteration will always use the last row and use this as a intuition"
   ]
  },
  {
   "cell_type": "code",
   "execution_count": null,
   "metadata": {},
   "outputs": [],
   "source": [
    "class Solution:\n",
    "    \"\"\"\n",
    "    @param matrix: a matrix of 0 and 1\n",
    "    @return: an integer\n",
    "    \"\"\"\n",
    "    def maxSquare(self, matrix):\n",
    "        # write your code here\n",
    "        if not matrix or not matrix[0]: return 0\n",
    "        m, n = len(matrix), len(matrix[0])\n",
    "        dp = [[0] * n for _ in range(m)]\n",
    "        dp[0] = matrix[0]\n",
    "        edge = max(matrix[0])\n",
    "        for i in range(1, m):\n",
    "            dp[i][0] = matrix[i][0]\n",
    "            for j in range(1, n):\n",
    "                if matrix[i][j]:\n",
    "                    dp[i][j] = min(dp[i-1][j], dp[i-1][j-1], dp[i][j-1]) + 1\n",
    "                else:    \n",
    "                    dp[i][j] = 0\n",
    "            edge = max(edge, max(dp[i]))\n",
    "        return edge * edge"
   ]
  }
 ],
 "metadata": {
  "kernelspec": {
   "display_name": "Python 3",
   "language": "python",
   "name": "python3"
  },
  "language_info": {
   "codemirror_mode": {
    "name": "ipython",
    "version": 3
   },
   "file_extension": ".py",
   "mimetype": "text/x-python",
   "name": "python",
   "nbconvert_exporter": "python",
   "pygments_lexer": "ipython3",
   "version": "3.6.8"
  }
 },
 "nbformat": 4,
 "nbformat_minor": 2
}
