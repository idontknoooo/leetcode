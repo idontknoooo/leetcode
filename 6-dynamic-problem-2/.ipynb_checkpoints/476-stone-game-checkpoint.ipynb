{
 "cells": [
  {
   "cell_type": "code",
   "execution_count": null,
   "metadata": {},
   "outputs": [],
   "source": [
    "# 双序列"
   ]
  },
  {
   "cell_type": "code",
   "execution_count": null,
   "metadata": {},
   "outputs": [],
   "source": [
    "class Solution:\n",
    "    \"\"\"\n",
    "    @param A: An integer array\n",
    "    @return: An integer\n",
    "    \"\"\"\n",
    "    def stoneGame(self, A):\n",
    "        n = len(A)\n",
    "        if n < 2:\n",
    "            return 0\n",
    "            \n",
    "        # dp[i][j] => minimum cost merge from i to j\n",
    "        dp = [[0] * n for _ in range(n)]\n",
    "        \n",
    "        # range_sum[i][j] => sum(A[i:j+1])\n",
    "        range_sum = [[0] * n for _ in range(len(A))]\n",
    "        for i in range(n):\n",
    "            range_sum[i][i] = A[i]\n",
    "            for j in range(i + 1, n):\n",
    "                range_sum[i][j] = range_sum[i][j - 1] + A[j]\n",
    "            \n",
    "        # enumerate the range size first, start point second\n",
    "        # length == 2 are neighbours, already done previously\n",
    "        for length in range(2, n + 1):  \n",
    "            for i in range(n - length + 1): # j+1-i == length\n",
    "                j = i + length - 1\n",
    "                dp[i][j] = sys.maxsize\n",
    "                for mid in range(i, j):\n",
    "                    dp[i][j] = min(dp[i][j], dp[i][mid] + dp[mid + 1][j] + range_sum[i][j])\n",
    "        \n",
    "        return dp[0][n - 1]\n"
   ]
  }
 ],
 "metadata": {
  "kernelspec": {
   "display_name": "Python 3",
   "language": "python",
   "name": "python3"
  },
  "language_info": {
   "codemirror_mode": {
    "name": "ipython",
    "version": 3
   },
   "file_extension": ".py",
   "mimetype": "text/x-python",
   "name": "python",
   "nbconvert_exporter": "python",
   "pygments_lexer": "ipython3",
   "version": "3.6.8"
  }
 },
 "nbformat": 4,
 "nbformat_minor": 2
}
