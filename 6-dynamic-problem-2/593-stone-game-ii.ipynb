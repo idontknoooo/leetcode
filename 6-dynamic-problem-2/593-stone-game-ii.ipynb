{
 "cells": [
  {
   "cell_type": "code",
   "execution_count": null,
   "metadata": {},
   "outputs": [],
   "source": [
    "# Since stone game becomes a circle, we use 2*n length to make it work\n",
    "# Pretty similar to stone game I, but changing range_sum to a 1D array"
   ]
  },
  {
   "cell_type": "code",
   "execution_count": null,
   "metadata": {},
   "outputs": [],
   "source": [
    "class Solution:\n",
    "    # @param {int[]} A an integer array\n",
    "    # @return {int} an integer\n",
    "    def stoneGame2(self, A):\n",
    "        # Write your code here\n",
    "        n = len(A)\n",
    "        if n < 2:\n",
    "            return 0\n",
    "\n",
    "        dp = [[0 for i in range(2 * n)] for j in range(2 * n)]\n",
    "        \n",
    "        range_sum = [0]\n",
    "        for i in range(2 * n):\n",
    "            range_sum.append(range_sum[-1] + A[i % n])\n",
    "\n",
    "        for l in range(2, 2 * n + 1):\n",
    "            for i in range(2 * n):\n",
    "                j = i + l - 1\n",
    "                if j >= 2 * n:\n",
    "                    continue\n",
    "                dp[i][j] = float('inf')\n",
    "                for mid in range(i, j):\n",
    "                    dp[i][j] = min(dp[i][mid] + dp[mid+1][j] + range_sum[j+1] - range_sum[i], dp[i][j])\n",
    "\n",
    "        ans = float('inf')\n",
    "        for i in range(n):\n",
    "            ans = min(ans, dp[i][i + n - 1])\n",
    "        return ans"
   ]
  }
 ],
 "metadata": {
  "kernelspec": {
   "display_name": "Python 3",
   "language": "python",
   "name": "python3"
  },
  "language_info": {
   "codemirror_mode": {
    "name": "ipython",
    "version": 3
   },
   "file_extension": ".py",
   "mimetype": "text/x-python",
   "name": "python",
   "nbconvert_exporter": "python",
   "pygments_lexer": "ipython3",
   "version": "3.6.8"
  }
 },
 "nbformat": 4,
 "nbformat_minor": 2
}
